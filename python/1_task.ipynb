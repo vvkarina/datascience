{
 "cells": [
  {
   "cell_type": "markdown",
   "id": "caec52ff",
   "metadata": {},
   "source": [
    "# Самостоятельное задание\n",
    "\n",
    "Мы предлагаем вам потренироваться c логическими и побитовыми операторами."
   ]
  },
  {
   "cell_type": "code",
   "execution_count": null,
   "id": "7fe7e97e",
   "metadata": {},
   "outputs": [],
   "source": [
    "a = True\n",
    "\n",
    "b = False"
   ]
  },
  {
   "cell_type": "markdown",
   "id": "06c53579",
   "metadata": {},
   "source": [
    "**Решите:**\n",
    "\n",
    "1. a and b\n",
    "\n",
    "Ответ: False\n",
    "\n",
    "2. (a and b) or b\n",
    "Ответ: False\n",
    "\n",
    "3. (a and b) or not (a and b)\n",
    "Ответ: True\n",
    "\n",
    "4. a and b or not (a or b) or b\n",
    "Ответ: False\n",
    "\n",
    "5. b and b or not a and (a or b or a) or not (a or b)\n",
    "Ответ: False\n",
    "\n",
    "6. 1 << 2\n",
    "Ответ: 4\n",
    "\n",
    "7. 1 & 0 | 1 >> 1\n",
    "Ответ: 0\n",
    "\n",
    "8. 1 & 0 | 1 >> 0\n",
    "Ответ: 1\n",
    "\n",
    "9. 0b101 & 0b111 ^ 0b111 | 0b010  Комментарий: \"0b101\" - запись числа \"5\" на языке Python в двоичном виде \n",
    "Ответ: 2"
   ]
  }
 ],
 "metadata": {
  "kernelspec": {
   "display_name": "Python 3.9.10 64-bit (system)",
   "language": "python",
   "name": "python3"
  },
  "language_info": {
   "codemirror_mode": {
    "name": "ipython",
    "version": 3
   },
   "file_extension": ".py",
   "mimetype": "text/x-python",
   "name": "python",
   "nbconvert_exporter": "python",
   "pygments_lexer": "ipython3",
   "version": "3.9.10"
  },
  "vscode": {
   "interpreter": {
    "hash": "2a8dfe095fce2b5e88c64a2c3ee084c8e0e0d70b23e7b95b1cfb538be294c5c8"
   }
  }
 },
 "nbformat": 4,
 "nbformat_minor": 5
}
